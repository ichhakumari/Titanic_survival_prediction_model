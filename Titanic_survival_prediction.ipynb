https://colab.research.google.com/drive/1TtOJYY_mFnzy8xj3aizzR_B6aCV67Btk?usp=sharing
https://colab.research.google.com/drive/1TtOJYY_mFnzy8xj3aizzR_B6aCV67Btk
[![Open In Colab](https://colab.research.google.com/drive/1TtOJYY_mFnzy8xj3aizzR_B6aCV67Btk.svg)](https://colab.research.google.com/drive/1TtOJYY_mFnzy8xj3aizzR_B6aCV67Btk.ipynb)

<a href="https://colab.research.google.com/drive/1TtOJYY_mFnzy8xj3aizzR_B6aCV67Btk?usp=sharing_Titanic_survival_prediction.ipynb">
  <img src="https://colab.research.google.com/drive/1TtOJYY_mFnzy8xj3aizzR_B6aCV67Btk?usp=sharing.svg" alt="Open In Colab"/>
</a>
